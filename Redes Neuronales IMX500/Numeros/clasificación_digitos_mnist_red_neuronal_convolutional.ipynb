{
  "cells": [
    {
      "cell_type": "markdown",
      "metadata": {
        "id": "aq7MqgGKBfOq"
      },
      "source": [
        "# Clasificación de número con el dataset MNIST usanado redes convolucionales"
      ]
    },
    {
      "cell_type": "markdown",
      "metadata": {
        "id": "HSmvrCh8CqZq"
      },
      "source": [
        "En este cuadreno vamos a implementar una convolucional para clasificar imágenes de cifras. Para entrenar el modelo usaremos el dataset MNIST (https://www.tensorflow.org/datasets/catalog/mnist?hl=es)."
      ]
    },
    {
      "cell_type": "markdown",
      "metadata": {
        "id": "Uzlnsvf1DGpk"
      },
      "source": [
        "## 1. Importamos librerías\n",
        "\n",
        "---\n",
        "\n"
      ]
    },
    {
      "cell_type": "code",
      "execution_count": 1,
      "metadata": {
        "id": "l8DhknOWDIc4"
      },
      "outputs": [
        {
          "name": "stderr",
          "output_type": "stream",
          "text": [
            "2025-07-28 11:40:26.498955: I tensorflow/tsl/cuda/cudart_stub.cc:28] Could not find cuda drivers on your machine, GPU will not be used.\n",
            "2025-07-28 11:40:26.690724: E tensorflow/compiler/xla/stream_executor/cuda/cuda_dnn.cc:9342] Unable to register cuDNN factory: Attempting to register factory for plugin cuDNN when one has already been registered\n",
            "2025-07-28 11:40:26.690788: E tensorflow/compiler/xla/stream_executor/cuda/cuda_fft.cc:609] Unable to register cuFFT factory: Attempting to register factory for plugin cuFFT when one has already been registered\n",
            "2025-07-28 11:40:26.691890: E tensorflow/compiler/xla/stream_executor/cuda/cuda_blas.cc:1518] Unable to register cuBLAS factory: Attempting to register factory for plugin cuBLAS when one has already been registered\n",
            "2025-07-28 11:40:26.778332: I tensorflow/tsl/cuda/cudart_stub.cc:28] Could not find cuda drivers on your machine, GPU will not be used.\n",
            "2025-07-28 11:40:26.780648: I tensorflow/core/platform/cpu_feature_guard.cc:182] This TensorFlow binary is optimized to use available CPU instructions in performance-critical operations.\n",
            "To enable the following instructions: AVX2 FMA, in other operations, rebuild TensorFlow with the appropriate compiler flags.\n",
            "2025-07-28 11:40:28.223937: W tensorflow/compiler/tf2tensorrt/utils/py_utils.cc:38] TF-TRT Warning: Could not find TensorRT\n"
          ]
        }
      ],
      "source": [
        "import tensorflow as tf\n",
        "import keras\n",
        "from keras.layers import Dense, Flatten, Input, Conv2D, MaxPooling2D, Dropout\n",
        "from keras.models import Sequential\n",
        "import matplotlib.pyplot as plt\n",
        "import numpy as np\n",
        "import random"
      ]
    },
    {
      "cell_type": "markdown",
      "metadata": {
        "id": "Yuvx7u4qDQ0p"
      },
      "source": [
        "## 2. Preprocesado de datos\n",
        "\n",
        "---\n",
        "\n"
      ]
    },
    {
      "cell_type": "markdown",
      "metadata": {
        "id": "qI70NJ8SN4An"
      },
      "source": [
        "El primer paso es preprocesar los datos. Para ello, cargamos el conjunto de datos de dígitos MNIST de la biblioteca de conjuntos de datos Keras, lo dividimos en conjuntos de entrenamiento y de prueba, hacemos un reshape de las imágenes y codificamos las etiquetas."
      ]
    },
    {
      "cell_type": "code",
      "execution_count": 2,
      "metadata": {
        "colab": {
          "base_uri": "https://localhost:8080/"
        },
        "id": "IsaUq1mDDVLT",
        "outputId": "ec0eeca4-be34-48d8-edb0-955a723c73ce"
      },
      "outputs": [],
      "source": [
        "# Cargamos el dataset MNIST.\n",
        "# El dataset MNIST tiene 60,000 imágenes de entrenamiento y 10,000 imagenes de test de dígitos escritos a mano.\n",
        "(X_train, y_train), (X_test, y_test) = keras.datasets.mnist.load_data()"
      ]
    },
    {
      "cell_type": "code",
      "execution_count": 3,
      "metadata": {
        "id": "nWuEpda6EBMN"
      },
      "outputs": [],
      "source": [
        "# Normalizamos los valores de píxeles al intervalo [0, 1]\n",
        "X_train = X_train.astype('float32') / 255.0\n",
        "X_test = X_test.astype('float32') / 255.0\n",
        "\n",
        "# Convertimos las etiquetas a formato one-hot encoding\n",
        "y_train = keras.utils.to_categorical(y_train, 10)  # 10 clases (0-9)\n",
        "y_test = keras.utils.to_categorical(y_test, 10)"
      ]
    },
    {
      "cell_type": "markdown",
      "metadata": {
        "id": "FVEOuuLPOJVH"
      },
      "source": [
        "Further, the following are the shapes of each matrix, as well as a visualization of a random MNIST digit."
      ]
    },
    {
      "cell_type": "code",
      "execution_count": 4,
      "metadata": {
        "colab": {
          "base_uri": "https://localhost:8080/"
        },
        "id": "9PpPi0qpNI_L",
        "outputId": "2b64ab3f-f87c-4bed-f2df-61e3f865f3e4"
      },
      "outputs": [
        {
          "name": "stdout",
          "output_type": "stream",
          "text": [
            "Imágenes de entrenamiento: (60000, 28, 28)\n",
            "Imágenes de test: (10000, 28, 28)\n",
            "Etiquetas de entrenamiento: (60000, 10)\n",
            "Etiquetas de test: (10000, 10)\n"
          ]
        }
      ],
      "source": [
        "# Show the shapes of the data.\n",
        "print(\"Imágenes de entrenamiento:\", X_train.shape)\n",
        "print(\"Imágenes de test:\", X_test.shape)\n",
        "print(\"Etiquetas de entrenamiento:\", y_train.shape)\n",
        "print(\"Etiquetas de test:\", y_test.shape)"
      ]
    },
    {
      "cell_type": "code",
      "execution_count": 5,
      "metadata": {
        "colab": {
          "base_uri": "https://localhost:8080/",
          "height": 430
        },
        "id": "mSKjBaeNNc1m",
        "outputId": "c86ace67-70a3-4d6a-ff70-4509c0556090"
      },
      "outputs": [
        {
          "data": {
            "image/png": "[encoded data removed]",
            "text/plain": [
              "<Figure size 640x480 with 1 Axes>"
            ]
          },
          "metadata": {},
          "output_type": "display_data"
        }
      ],
      "source": [
        "# Show a sample MNIST digit.\n",
        "index = random.randint(1, 60000)\n",
        "plt.imshow(X_train[index])\n",
        "plt.show()"
      ]
    },
    {
      "cell_type": "markdown",
      "metadata": {
        "id": "J5ubfhUsFLR8"
      },
      "source": [
        "## 3. Red neuronal\n",
        "---\n",
        "\n"
      ]
    },
    {
      "cell_type": "markdown",
      "metadata": {
        "id": "-gPoq2dRFtrH"
      },
      "source": [
        "### 3.1. Definimos el modelo"
      ]
    },
    {
      "cell_type": "markdown",
      "metadata": {
        "id": "jU5sDVjhOVgF"
      },
      "source": [
        "Vamos de definir un modelo secuencial de dos capas fully connected (dense layers)"
      ]
    },
    {
      "cell_type": "code",
      "execution_count": 6,
      "metadata": {
        "id": "Ri1rSpp3FSDS"
      },
      "outputs": [],
      "source": [
        "num_classes = 10\n",
        "input_shape = (28, 28,1)\n",
        "\n",
        "# Define el modelo\n",
        "model = Sequential(\n",
        "    [\n",
        "        Input(shape=input_shape),\n",
        "        Conv2D(32, kernel_size=(3, 3), activation=\"relu\"),\n",
        "        MaxPooling2D(pool_size=(2, 2)),\n",
        "        Conv2D(64, kernel_size=(3, 3), activation=\"relu\"),\n",
        "        MaxPooling2D(pool_size=(2, 2)),\n",
        "        Flatten(),\n",
        "        Dropout(0.5),\n",
        "        Dense(num_classes, activation=\"softmax\"),\n",
        "    ]\n",
        ")\n"
      ]
    },
    {
      "cell_type": "code",
      "execution_count": 7,
      "metadata": {
        "colab": {
          "base_uri": "https://localhost:8080/",
          "height": 375
        },
        "id": "cdMaLgtqFeV6",
        "outputId": "a0f5f3b7-241c-4fb7-fca6-1488b9ab0e9e"
      },
      "outputs": [
        {
          "name": "stdout",
          "output_type": "stream",
          "text": [
            "Model: \"sequential\"\n",
            "_________________________________________________________________\n",
            " Layer (type)                Output Shape              Param #   \n",
            "=================================================================\n",
            " conv2d (Conv2D)             (None, 26, 26, 32)        320       \n",
            "                                                                 \n",
            " max_pooling2d (MaxPooling2  (None, 13, 13, 32)        0         \n",
            " D)                                                              \n",
            "                                                                 \n",
            " conv2d_1 (Conv2D)           (None, 11, 11, 64)        18496     \n",
            "                                                                 \n",
            " max_pooling2d_1 (MaxPoolin  (None, 5, 5, 64)          0         \n",
            " g2D)                                                            \n",
            "                                                                 \n",
            " flatten (Flatten)           (None, 1600)              0         \n",
            "                                                                 \n",
            " dropout (Dropout)           (None, 1600)              0         \n",
            "                                                                 \n",
            " dense (Dense)               (None, 10)                16010     \n",
            "                                                                 \n",
            "=================================================================\n",
            "Total params: 34826 (136.04 KB)\n",
            "Trainable params: 34826 (136.04 KB)\n",
            "Non-trainable params: 0 (0.00 Byte)\n",
            "_________________________________________________________________\n"
          ]
        }
      ],
      "source": [
        "# Mostramos información del modelo\n",
        "model.summary()"
      ]
    },
    {
      "cell_type": "markdown",
      "metadata": {
        "id": "GYactRmuOhCW"
      },
      "source": [
        "Una vez definido el modelo lo compilamos usando el optimizador Adam and y como función de pérdida (loss) categorrical cross-entropy.\n",
        "\n",
        "\n"
      ]
    },
    {
      "cell_type": "code",
      "execution_count": 8,
      "metadata": {
        "id": "57j-R0L4Fmmf"
      },
      "outputs": [],
      "source": [
        "# Compilamos the model.\n",
        "model.compile(optimizer='adam', loss='categorical_crossentropy', metrics=['accuracy'])"
      ]
    },
    {
      "cell_type": "markdown",
      "metadata": {
        "id": "hRVabAG8F3IL"
      },
      "source": [
        "### 3.2. Entrenamos el modelo"
      ]
    },
    {
      "cell_type": "markdown",
      "metadata": {
        "id": "0IuRzsr2Osga"
      },
      "source": [
        "Para entrenar el modelo debemos definie el número de épocas (epochs) y y tamaño de batch.\n"
      ]
    },
    {
      "cell_type": "code",
      "execution_count": 9,
      "metadata": {
        "colab": {
          "base_uri": "https://localhost:8080/"
        },
        "id": "Yl1f9mvZF5Pc",
        "outputId": "aa10ab21-c9a1-4c90-b946-d64b5059a5e7"
      },
      "outputs": [
        {
          "name": "stdout",
          "output_type": "stream",
          "text": [
            "Epoch 1/10\n"
          ]
        },
        {
          "name": "stderr",
          "output_type": "stream",
          "text": [
            "2025-07-28 11:40:30.221172: W tensorflow/tsl/framework/cpu_allocator_impl.cc:83] Allocation of 188160000 exceeds 10% of free system memory.\n"
          ]
        },
        {
          "name": "stdout",
          "output_type": "stream",
          "text": [
            "1875/1875 [==============================] - 18s 9ms/step - loss: 0.2131 - accuracy: 0.9345 - val_loss: 0.0589 - val_accuracy: 0.9818\n",
            "Epoch 2/10\n",
            "1875/1875 [==============================] - 16s 8ms/step - loss: 0.0801 - accuracy: 0.9758 - val_loss: 0.0464 - val_accuracy: 0.9846\n",
            "Epoch 3/10\n",
            "1875/1875 [==============================] - 15s 8ms/step - loss: 0.0632 - accuracy: 0.9805 - val_loss: 0.0391 - val_accuracy: 0.9874\n",
            "Epoch 4/10\n",
            "1875/1875 [==============================] - 15s 8ms/step - loss: 0.0526 - accuracy: 0.9834 - val_loss: 0.0321 - val_accuracy: 0.9892\n",
            "Epoch 5/10\n",
            "1875/1875 [==============================] - 15s 8ms/step - loss: 0.0462 - accuracy: 0.9855 - val_loss: 0.0272 - val_accuracy: 0.9907\n",
            "Epoch 6/10\n",
            "1875/1875 [==============================] - 16s 8ms/step - loss: 0.0432 - accuracy: 0.9856 - val_loss: 0.0323 - val_accuracy: 0.9891\n",
            "Epoch 7/10\n",
            "1875/1875 [==============================] - 16s 8ms/step - loss: 0.0375 - accuracy: 0.9879 - val_loss: 0.0295 - val_accuracy: 0.9905\n",
            "Epoch 8/10\n",
            "1875/1875 [==============================] - 15s 8ms/step - loss: 0.0362 - accuracy: 0.9883 - val_loss: 0.0278 - val_accuracy: 0.9902\n",
            "Epoch 9/10\n",
            "1875/1875 [==============================] - 15s 8ms/step - loss: 0.0347 - accuracy: 0.9889 - val_loss: 0.0246 - val_accuracy: 0.9911\n",
            "Epoch 10/10\n",
            "1875/1875 [==============================] - 15s 8ms/step - loss: 0.0321 - accuracy: 0.9895 - val_loss: 0.0266 - val_accuracy: 0.9913\n"
          ]
        }
      ],
      "source": [
        "# Define the parameters.\n",
        "num_epochs = 10\n",
        "batch_size = 32\n",
        "\n",
        "# Train the model.\n",
        "history = model.fit(X_train,\n",
        "                      y_train,\n",
        "                      epochs=num_epochs,\n",
        "                      batch_size=batch_size,\n",
        "                      validation_data=(X_test, y_test))"
      ]
    },
    {
      "cell_type": "markdown",
      "metadata": {
        "id": "WhyG0-sPHOAv"
      },
      "source": [
        "### 3.3. Mostramos las métricas"
      ]
    },
    {
      "cell_type": "markdown",
      "metadata": {
        "id": "1TFadfX_Oyg_"
      },
      "source": [
        "Mostramos la precisióh del modelo (accuracy) usando el conjunto de datos de test.\n"
      ]
    },
    {
      "cell_type": "code",
      "execution_count": 10,
      "metadata": {
        "colab": {
          "base_uri": "https://localhost:8080/"
        },
        "id": "vFoIAPdSYXqh",
        "outputId": "84a5767e-c77f-4b35-ee6a-62b5e490c88a"
      },
      "outputs": [
        {
          "name": "stdout",
          "output_type": "stream",
          "text": [
            "313/313 [==============================] - 1s 3ms/step - loss: 0.0266 - accuracy: 0.9913\n",
            "Test Accuracy: 0.9912999868392944\n",
            "Test Loss: 0.02660517208278179\n"
          ]
        }
      ],
      "source": [
        "test_loss, test_accuracy = model.evaluate(X_test, y_test)\n",
        "print('Test Accuracy:', test_accuracy)\n",
        "print('Test Loss:', test_loss)"
      ]
    },
    {
      "cell_type": "markdown",
      "metadata": {
        "id": "k3p2c0-RO2M8"
      },
      "source": [
        "Guardamos las métricas para cada época y dibujamos la pérdida y la precicion de del modelo."
      ]
    },
    {
      "cell_type": "code",
      "execution_count": 11,
      "metadata": {
        "id": "8-OdhC_0KtUx"
      },
      "outputs": [],
      "source": [
        "# Guardamos las métricas.\n",
        "metrics = history.history"
      ]
    },
    {
      "cell_type": "markdown",
      "metadata": {
        "id": "ZztnSHgjZPDN"
      },
      "source": [
        "Pintamos las curvas de precisión y pérdida."
      ]
    },
    {
      "cell_type": "code",
      "execution_count": 12,
      "metadata": {
        "id": "yfosMMiqHQB0"
      },
      "outputs": [],
      "source": [
        "# Guardamos los valores de la pérdida\n",
        "training_loss_list = metrics['loss']\n",
        "test_loss_list = metrics['val_loss']"
      ]
    },
    {
      "cell_type": "code",
      "execution_count": 13,
      "metadata": {
        "colab": {
          "base_uri": "https://localhost:8080/",
          "height": 474
        },
        "id": "HKAZlyOmHV6f",
        "outputId": "6d76e08e-3d2e-4881-820a-b3c0697bf364"
      },
      "outputs": [
        {
          "data": {
            "image/png": "[encoded data removed]",
            "text/plain": [
              "<Figure size 640x480 with 1 Axes>"
            ]
          },
          "metadata": {},
          "output_type": "display_data"
        }
      ],
      "source": [
        "# Pintamos los valores\n",
        "x = np.arange(0, num_epochs, 1)\n",
        "plt.title('Pérdida en entrenamiento y test')\n",
        "plt.xlabel('Época')\n",
        "plt.ylabel('Pérdida')\n",
        "plt.plot(x, training_loss_list, label='Pérdida entrenamiento')\n",
        "plt.plot(x, test_loss_list, label='Pérdida test')\n",
        "plt.legend()\n",
        "plt.show()"
      ]
    },
    {
      "cell_type": "code",
      "execution_count": 14,
      "metadata": {
        "id": "RwzIUzuuI0ZP"
      },
      "outputs": [],
      "source": [
        "train_accuracy_list = metrics['accuracy']\n",
        "test_accuracy_list = metrics['val_accuracy']"
      ]
    },
    {
      "cell_type": "code",
      "execution_count": 15,
      "metadata": {
        "colab": {
          "base_uri": "https://localhost:8080/",
          "height": 474
        },
        "id": "kHj-j2HpI2Lb",
        "outputId": "2984d168-236d-47e8-aa5a-b4135ada0195"
      },
      "outputs": [
        {
          "data": {
            "image/png": "[encoded data removed]",
            "text/plain": [
              "<Figure size 640x480 with 1 Axes>"
            ]
          },
          "metadata": {},
          "output_type": "display_data"
        }
      ],
      "source": [
        "plt.title('Precisión entrenamiento y test')\n",
        "plt.xlabel('Época')\n",
        "plt.ylabel('Precisión')\n",
        "plt.plot(x, train_accuracy_list, label='Precisión entrenamiento')\n",
        "plt.plot(x, test_accuracy_list, label='Precisión test')\n",
        "plt.legend()\n",
        "plt.show()"
      ]
    },
    {
      "cell_type": "markdown",
      "metadata": {
        "id": "x2BDwaUigDgC"
      },
      "source": [
        "## 4. Probamos el modelo haciendo inferencia\n",
        "\n",
        "---\n",
        "\n"
      ]
    },
    {
      "cell_type": "markdown",
      "metadata": {
        "id": "vx34e_AWgLeE"
      },
      "source": [
        "Once our model is trained, we can use it to make predictions. To do this, we first use our test set to predict the classes."
      ]
    },
    {
      "cell_type": "code",
      "execution_count": 16,
      "metadata": {
        "colab": {
          "base_uri": "https://localhost:8080/"
        },
        "id": "SylCmq61gTnM",
        "outputId": "c5aa9c3f-5368-415c-828d-a77726df8efe"
      },
      "outputs": [
        {
          "name": "stdout",
          "output_type": "stream",
          "text": [
            "313/313 [==============================] - 1s 3ms/step\n"
          ]
        }
      ],
      "source": [
        "# Hacemos una predicción usando el modelo que hemos entrenado.\n",
        "predictions = model.predict(X_test)"
      ]
    },
    {
      "cell_type": "markdown",
      "metadata": {
        "id": "uMo9sEZpggPq"
      },
      "source": [
        "Elegimos una imagen aleatoria y su etiqueta para ver si la predicción es correcta."
      ]
    },
    {
      "cell_type": "code",
      "execution_count": 17,
      "metadata": {
        "colab": {
          "base_uri": "https://localhost:8080/",
          "height": 430
        },
        "id": "Gc6bx2stgfiY",
        "outputId": "8aa010f1-e81a-4fd7-84b7-5feb7cecb974"
      },
      "outputs": [
        {
          "data": {
            "image/png": "[encoded data removed]",
            "text/plain": [
              "<Figure size 640x480 with 1 Axes>"
            ]
          },
          "metadata": {},
          "output_type": "display_data"
        }
      ],
      "source": [
        "# Seeleccionamos una imagen del conjunto de test de forma aletoria\n",
        "index = random.randint(1, 10000)\n",
        "\n",
        "# Mostramos la imagen\n",
        "plt.imshow(X_test[index])\n",
        "plt.show()"
      ]
    },
    {
      "cell_type": "code",
      "execution_count": 18,
      "metadata": {
        "colab": {
          "base_uri": "https://localhost:8080/"
        },
        "id": "5bmSdfcFgunA",
        "outputId": "7a06a433-632f-4e08-a54c-0e841f5ac763"
      },
      "outputs": [
        {
          "name": "stdout",
          "output_type": "stream",
          "text": [
            "Predicción: 3\n"
          ]
        }
      ],
      "source": [
        "print(\"Predicción:\", np.argmax(predictions[index]))"
      ]
    },
    {
      "cell_type": "markdown",
      "metadata": {},
      "source": [
        "## 5. Cuantización y Creación del .zip\n",
        "\n",
        "---\n"
      ]
    },
    {
      "cell_type": "code",
      "execution_count": 22,
      "metadata": {},
      "outputs": [],
      "source": [
        "from typing import Generator\n",
        "\n",
        "n_iter=10\n",
        "\n",
        "def get_representative_dataset() -> Generator:\n",
        "    \"\"\"A function that returns a representative dataset generator for numpy data.\"\"\"\n",
        "    dataset = X_train  # numpy array, shape (N, H, W, C)\n",
        "\n",
        "    def representative_dataset() -> Generator:\n",
        "        for i in range(n_iter):\n",
        "            # Devuelve un batch con forma (1, H, W, C)\n",
        "            yield [dataset[i:i+1]]\n",
        "    return representative_dataset\n",
        "\n",
        "\n",
        "# Create a representative dataset generator\n",
        "representative_dataset_gen = get_representative_dataset()"
      ]
    },
    {
      "cell_type": "code",
      "execution_count": 20,
      "metadata": {},
      "outputs": [],
      "source": [
        "import model_compression_toolkit as mct\n",
        "from model_compression_toolkit.core import QuantizationErrorMethod\n",
        "\n",
        "# Specify the IMX500-v1 target platform capability (TPC)\n",
        "tpc = mct.get_target_platform_capabilities(\"tensorflow\", 'imx500', target_platform_version='v1')\n",
        "\n",
        "# Set the following quantization configurations:\n",
        "# Choose the desired QuantizationErrorMethod for the quantization parameters search.\n",
        "# Enable weights bias correction induced by quantization.\n",
        "# Enable shift negative corrections for improving 'signed' non-linear functions quantization (such as swish, prelu, etc.)\n",
        "# Set the threshold to filter outliers with z_score of 16.\n",
        "q_config = mct.core.QuantizationConfig(activation_error_method=QuantizationErrorMethod.MSE,\n",
        "                                       weights_error_method=QuantizationErrorMethod.MSE,\n",
        "                                       weights_bias_correction=True,\n",
        "                                       shift_negative_activation_correction=True,\n",
        "                                       z_threshold=16)\n",
        "\n",
        "ptq_config = mct.core.CoreConfig(quantization_config=q_config)"
      ]
    },
    {
      "cell_type": "code",
      "execution_count": null,
      "metadata": {},
      "outputs": [
        {
          "name": "stderr",
          "output_type": "stream",
          "text": [
            "representative_data_gen generates a batch size of 1 which can be slow for optimization: consider increasing the batch size\n"
          ]
        },
        {
          "name": "stdout",
          "output_type": "stream",
          "text": [
            "representative_data_gen generates a batch size of 1 which can be slow for optimization: consider increasing the batch size\n"
          ]
        },
        {
          "name": "stderr",
          "output_type": "stream",
          "text": [
            "Statistics Collection: 10it [00:00, 180.60it/s]\n"
          ]
        },
        {
          "name": "stdout",
          "output_type": "stream",
          "text": [
            "\n",
            "Running quantization parameters search. This process might take some time, depending on the model size and the selected quantization methods.\n",
            "\n"
          ]
        },
        {
          "name": "stderr",
          "output_type": "stream",
          "text": [
            "Calculating quantization parameters: 100%|██████████| 11/11 [00:00<00:00, 41.07it/s]\n"
          ]
        },
        {
          "name": "stdout",
          "output_type": "stream",
          "text": [
            "Weights_memory: 34720.0, Activation_memory: 21632.0, Total_memory: 56352.0, BOPS: 587505664\n",
            "\n",
            "Please run your accuracy evaluation on the exported quantized model to verify it's accuracy.\n",
            "Checkout the FAQ and Troubleshooting pages for resolving common issues and improving the quantized model accuracy:\n",
            "FAQ: https://github.com/sony/model_optimization/tree/main/FAQ.md\n",
            "Quantization Troubleshooting: https://github.com/sony/model_optimization/tree/main/quantization_troubleshooting.md\n"
          ]
        }
      ],
      "source": [
        "import model_compression_toolkit as mct\n",
        "\n",
        "\n",
        "quantized_model, quantization_info = mct.ptq.keras_post_training_quantization(\n",
        "    in_model=model,\n",
        "    representative_data_gen=representative_dataset_gen,\n",
        "    core_config=ptq_config,\n",
        "    target_platform_capabilities=tpc)\n",
        "\n",
        "\n",
        "quantized_model.save(\"clasificacion-rps-quant.keras\")"
      ]
    },
    {
      "cell_type": "code",
      "execution_count": 26,
      "metadata": {},
      "outputs": [
        {
          "name": "stdout",
          "output_type": "stream",
          "text": [
            "2025-07-28 11:46:16,157 INFO : Running version 3.16.1 [/home/daniel/.venv_tf2/lib/python3.11/site-packages/uni/common/logger.py:179]\n",
            "2025-07-28 11:46:16,157 INFO : Converting clasificacion-rps.keras [/home/daniel/.venv_tf2/lib/python3.11/site-packages/uni/common/logger.py:179]\n",
            "2025-07-28 11:46:16.393440: I tensorflow/tsl/cuda/cudart_stub.cc:28] Could not find cuda drivers on your machine, GPU will not be used.\n",
            "2025-07-28 11:46:16.430096: E tensorflow/compiler/xla/stream_executor/cuda/cuda_dnn.cc:9342] Unable to register cuDNN factory: Attempting to register factory for plugin cuDNN when one has already been registered\n",
            "2025-07-28 11:46:16.430149: E tensorflow/compiler/xla/stream_executor/cuda/cuda_fft.cc:609] Unable to register cuFFT factory: Attempting to register factory for plugin cuFFT when one has already been registered\n",
            "2025-07-28 11:46:16.430186: E tensorflow/compiler/xla/stream_executor/cuda/cuda_blas.cc:1518] Unable to register cuBLAS factory: Attempting to register factory for plugin cuBLAS when one has already been registered\n",
            "2025-07-28 11:46:16.437261: I tensorflow/tsl/cuda/cudart_stub.cc:28] Could not find cuda drivers on your machine, GPU will not be used.\n",
            "2025-07-28 11:46:16.437436: I tensorflow/core/platform/cpu_feature_guard.cc:182] This TensorFlow binary is optimized to use available CPU instructions in performance-critical operations.\n",
            "To enable the following instructions: AVX2 FMA, in other operations, rebuild TensorFlow with the appropriate compiler flags.\n",
            "2025-07-28 11:46:17.121659: W tensorflow/compiler/tf2tensorrt/utils/py_utils.cc:38] TF-TRT Warning: Could not find TensorRT\n",
            "2025-07-28 11:46:17,851 ERROR : CODE: [EXEC] Failed to load the model. [/home/daniel/.venv_tf2/lib/python3.11/site-packages/uni/common/logger.py:191]\n",
            "Traceback (most recent call last):\n",
            "  File \"/home/daniel/.venv_tf2/lib/python3.11/site-packages/uni/tensorflow/tf_parser/tf_reader.py\", line 87, in _load_model\n",
            "    model = keras_load_quantized_model(model_path, compile=False)\n",
            "            ^^^^^^^^^^^^^^^^^^^^^^^^^^^^^^^^^^^^^^^^^^^^^^^^^^^^^\n",
            "  File \"/home/daniel/.venv_tf2/lib/python3.11/site-packages/mct_quantizers/keras/load_model.py\", line 65, in keras_load_quantized_model\n",
            "    loaded_model = tf.keras.models.load_model(filepath, custom_objects=qi_custom_objects, compile=compile, **kwargs)\n",
            "                   ^^^^^^^^^^^^^^^^^^^^^^^^^^^^^^^^^^^^^^^^^^^^^^^^^^^^^^^^^^^^^^^^^^^^^^^^^^^^^^^^^^^^^^^^^^^^^^^^^\n",
            "  File \"/home/daniel/.venv_tf2/lib/python3.11/site-packages/keras/src/saving/saving_api.py\", line 262, in load_model\n",
            "    return legacy_sm_saving_lib.load_model(\n",
            "           ^^^^^^^^^^^^^^^^^^^^^^^^^^^^^^^^\n",
            "  File \"/home/daniel/.venv_tf2/lib/python3.11/site-packages/keras/src/utils/traceback_utils.py\", line 70, in error_handler\n",
            "    raise e.with_traceback(filtered_tb) from None\n",
            "  File \"/home/daniel/.venv_tf2/lib/python3.11/site-packages/keras/src/saving/legacy/save.py\", line 234, in load_model\n",
            "    raise IOError(\n",
            "OSError: No file or directory found at clasificacion-rps.keras\n",
            "\n",
            "The above exception was the direct cause of the following exception:\n",
            "\n",
            "Traceback (most recent call last):\n",
            "  File \"/home/daniel/.venv_tf2/lib/python3.11/site-packages/uni/common/main.py\", line 131, in execute\n",
            "    g, metadata = self.convert_model(args.input_path, vis_dir)\n",
            "                  ^^^^^^^^^^^^^^^^^^^^^^^^^^^^^^^^^^^^^^^^^^^^\n",
            "  File \"/home/daniel/.venv_tf2/lib/python3.11/site-packages/uni/common/main.py\", line 61, in convert_model\n",
            "    parser = self.get_parser(model_path, vis_dir)\n",
            "             ^^^^^^^^^^^^^^^^^^^^^^^^^^^^^^^^^^^^\n",
            "  File \"/home/daniel/.venv_tf2/lib/python3.11/site-packages/uni/common/main.py\", line 57, in get_parser\n",
            "    return self._parser_cls_getter()(model_path, vis_dir)\n",
            "           ^^^^^^^^^^^^^^^^^^^^^^^^^^^^^^^^^^^^^^^^^^^^^^\n",
            "  File \"/home/daniel/.venv_tf2/lib/python3.11/site-packages/uni/tensorflow/tf_parser/tf_parser.py\", line 41, in __init__\n",
            "    super().__init__(model_path, TensorflowReader, vis_path)\n",
            "  File \"/home/daniel/.venv_tf2/lib/python3.11/site-packages/uni/common/parsers/base_parser.py\", line 50, in __init__\n",
            "    self.reader = reader(fw_model)\n",
            "                  ^^^^^^^^^^^^^^^^\n",
            "  File \"/home/daniel/.venv_tf2/lib/python3.11/site-packages/uni/common/parsers/base_reader.py\", line 56, in __init__\n",
            "    self.model = self._load_model(fw_model)\n",
            "                 ^^^^^^^^^^^^^^^^^^^^^^^^^^\n",
            "  File \"/home/daniel/.venv_tf2/lib/python3.11/site-packages/uni/tensorflow/tf_parser/tf_reader.py\", line 101, in _load_model\n",
            "    raise RuntimeError(msg) from e\n",
            "RuntimeError: Failed to load the model.\n",
            "2025-07-28 11:46:17,860 ERROR : CODE: [EXEC] Failed to load the model. [/home/daniel/.venv_tf2/lib/python3.11/site-packages/uni/common/logger.py:185]\n",
            "ls: no se puede acceder a 'converted': No existe el archivo o el directorio\n"
          ]
        }
      ],
      "source": [
        "\n",
        "MODEL_CLASSIFICATION = 'clasificacion-rps.keras'\n",
        "\n",
        "!imxconv-tf -i {MODEL_CLASSIFICATION} -o converted\n",
        "\n",
        "\"\"\"\n",
        "# Expected output from converter:\n",
        "dnnParams.xml\t\t   mobilenet-quant-rps_MemoryReport.json\n",
        "mobilenet-quant-rps.pbtxt  packerOut.zip\n",
        "\"\"\"\n",
        "\n",
        "!ls converted\n",
        "assert \"packerOut.zip\", f\"Converted file not found\""
      ]
    }
  ],
  "metadata": {
    "colab": {
      "provenance": []
    },
    "kernelspec": {
      "display_name": ".venv_tf2 (3.11.13)",
      "language": "python",
      "name": "python3"
    },
    "language_info": {
      "codemirror_mode": {
        "name": "ipython",
        "version": 3
      },
      "file_extension": ".py",
      "mimetype": "text/x-python",
      "name": "python",
      "nbconvert_exporter": "python",
      "pygments_lexer": "ipython3",
      "version": "3.11.13"
    }
  },
  "nbformat": 4,
  "nbformat_minor": 0
}
